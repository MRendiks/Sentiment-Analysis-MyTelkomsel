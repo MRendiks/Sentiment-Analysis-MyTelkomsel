{
 "cells": [
  {
   "cell_type": "code",
   "execution_count": 1,
   "id": "c550a26a",
   "metadata": {},
   "outputs": [
    {
     "name": "stdout",
     "output_type": "stream",
     "text": [
      "Requirement already satisfied: google-play-scraper in c:\\users\\lenovo\\anaconda3\\lib\\site-packages (1.0.3)\n"
     ]
    }
   ],
   "source": [
    "!pip install google-play-scraper"
   ]
  },
  {
   "cell_type": "code",
   "execution_count": 2,
   "id": "83ca81d3",
   "metadata": {},
   "outputs": [],
   "source": [
    "import pandas as pd # library untuk mengubah hasil scraping menjadi dataframe dan mengelola dataframe\n",
    "from tqdm import tqdm # library untuk menampilkan progress bar pada proses scraping\n",
    "\n",
    "from google_play_scraper import Sort, reviews, app # library untuk scraping data"
   ]
  },
  {
   "cell_type": "code",
   "execution_count": 32,
   "id": "16a462de",
   "metadata": {},
   "outputs": [
    {
     "name": "stderr",
     "output_type": "stream",
     "text": [
      "100%|███████████████████████████████████████████████████████████████████████████████████| 1/1 [03:53<00:00, 233.58s/it]\n"
     ]
    }
   ],
   "source": [
    "# mendefinisikan App ID dan variabel hasil scraping data\n",
    "app_id = ['com.telkomsel.telkomselcm']\n",
    "app_reviews = []\n",
    "\n",
    "# function untuk scraping data berada di dalam perulangan For dengan beberapa kondisi tertentu\n",
    "for app in tqdm(app_id):\n",
    "    for score in list(range(1, 6)):\n",
    "        for sort_order in [Sort.MOST_RELEVANT, Sort.NEWEST]:\n",
    "          # scraping data ulasan per pengguna\n",
    "          rvs, _ = reviews(\n",
    "            app,\n",
    "            lang = 'id',\n",
    "            country = 'id',\n",
    "            sort = sort_order,\n",
    "            count= 5000 if score == 3 else 5000,\n",
    "            filter_score_with = score\n",
    "          )\n",
    "          # menggabungkan hasil scraping ulasan per pengguna menjadi satu hasil dalam bentuk List\n",
    "          for r in rvs:\n",
    "            r['sortOrder'] = 'most_relevant' if sort_order == Sort.MOST_RELEVANT else 'newest'\n",
    "            r['appId'] = app\n",
    "    app_reviews.extend(rvs)"
   ]
  },
  {
   "cell_type": "code",
   "execution_count": 33,
   "id": "25c69d04",
   "metadata": {},
   "outputs": [
    {
     "data": {
      "text/plain": [
       "5000"
      ]
     },
     "execution_count": 33,
     "metadata": {},
     "output_type": "execute_result"
    }
   ],
   "source": [
    "len(app_reviews) # Karena ada batasan dari library \"google-play-scraper\", sehingga kita tidak dapat scraping seluruh hasil ulasan pengguna"
   ]
  },
  {
   "cell_type": "code",
   "execution_count": 34,
   "id": "784d52d4",
   "metadata": {},
   "outputs": [
    {
     "name": "stdout",
     "output_type": "stream",
     "text": [
      "<class 'list'>\n"
     ]
    }
   ],
   "source": [
    "print(type(app_reviews))"
   ]
  },
  {
   "cell_type": "code",
   "execution_count": 35,
   "id": "c70b1047",
   "metadata": {},
   "outputs": [
    {
     "data": {
      "text/html": [
       "<div>\n",
       "<style scoped>\n",
       "    .dataframe tbody tr th:only-of-type {\n",
       "        vertical-align: middle;\n",
       "    }\n",
       "\n",
       "    .dataframe tbody tr th {\n",
       "        vertical-align: top;\n",
       "    }\n",
       "\n",
       "    .dataframe thead th {\n",
       "        text-align: right;\n",
       "    }\n",
       "</style>\n",
       "<table border=\"1\" class=\"dataframe\">\n",
       "  <thead>\n",
       "    <tr style=\"text-align: right;\">\n",
       "      <th></th>\n",
       "      <th>reviewId</th>\n",
       "      <th>userName</th>\n",
       "      <th>userImage</th>\n",
       "      <th>content</th>\n",
       "      <th>score</th>\n",
       "      <th>thumbsUpCount</th>\n",
       "      <th>reviewCreatedVersion</th>\n",
       "      <th>at</th>\n",
       "      <th>replyContent</th>\n",
       "      <th>repliedAt</th>\n",
       "      <th>sortOrder</th>\n",
       "      <th>appId</th>\n",
       "    </tr>\n",
       "  </thead>\n",
       "  <tbody>\n",
       "    <tr>\n",
       "      <th>0</th>\n",
       "      <td>gp:AOqpTOHn0LrIAJ0PyL7pp7fbwSTjIyqS_Zzhgg3LPdMDs1NgVt0C7FV99YZcAudIySkob8eZf1ZrQAnrglwrPck</td>\n",
       "      <td>Yasha Yudistira</td>\n",
       "      <td>https://play-lh.googleusercontent.com/a/AATXAJy7lVJAn7KR7mJjUyZdQhdpfmnUWsXKP9Wj6ImT=mo</td>\n",
       "      <td>Keren dan sangat mudah liat pulsa tau kuota</td>\n",
       "      <td>5</td>\n",
       "      <td>0</td>\n",
       "      <td>None</td>\n",
       "      <td>2022-05-26 14:02:19</td>\n",
       "      <td>None</td>\n",
       "      <td>NaT</td>\n",
       "      <td>newest</td>\n",
       "      <td>com.telkomsel.telkomselcm</td>\n",
       "    </tr>\n",
       "    <tr>\n",
       "      <th>1</th>\n",
       "      <td>gp:AOqpTOGQnx9o6AsHz0Z_Q5WIKGezyn2QY0_FXN8-KHI44Fb5EwOwVKjOK6AH3vbf-nd2AuevyzXsxTyCJ1PVYys</td>\n",
       "      <td>Rudi Kartono</td>\n",
       "      <td>https://play-lh.googleusercontent.com/a-/AOh14GguoZsTT0l08yiEcQktwG3ObG3H2m_Sy7obUpyJ</td>\n",
       "      <td>Mantap</td>\n",
       "      <td>5</td>\n",
       "      <td>0</td>\n",
       "      <td>6.10.0-9</td>\n",
       "      <td>2022-05-26 13:59:38</td>\n",
       "      <td>None</td>\n",
       "      <td>NaT</td>\n",
       "      <td>newest</td>\n",
       "      <td>com.telkomsel.telkomselcm</td>\n",
       "    </tr>\n",
       "    <tr>\n",
       "      <th>2</th>\n",
       "      <td>gp:AOqpTOFNk1MC1CBh6rLBFbUNM4awNR9_9hRWziJWCbYAwToIajzUxuSY4AlZpKt2fPGqE7vXKQZg8ZQ35q1C9_s</td>\n",
       "      <td>Daswar 309</td>\n",
       "      <td>https://play-lh.googleusercontent.com/a/AATXAJxeoV9YFCz8cNzTG6upySxmSlkDlcSomX0nD4uc=mo</td>\n",
       "      <td>BismiLLah Baik ...</td>\n",
       "      <td>5</td>\n",
       "      <td>0</td>\n",
       "      <td>6.10.0-9</td>\n",
       "      <td>2022-05-26 13:55:18</td>\n",
       "      <td>None</td>\n",
       "      <td>NaT</td>\n",
       "      <td>newest</td>\n",
       "      <td>com.telkomsel.telkomselcm</td>\n",
       "    </tr>\n",
       "    <tr>\n",
       "      <th>3</th>\n",
       "      <td>gp:AOqpTOGcH9GUnt8BMqsw_bhiExuGgY-bgKqn0b65VVhUA989mnelSFZLvcdfmdbXi4dt6KkDu6PSrAN1oWswBoU</td>\n",
       "      <td>Agil Muasa</td>\n",
       "      <td>https://play-lh.googleusercontent.com/a/AATXAJz12mTVKAG_ANh5YHw7e2bS9416ym2zd1DoMFtq=mo</td>\n",
       "      <td>Makasih Telkomsel, hari ini gw dapet promo kuota 27 GB. Cuma tuker poin sama pulsa 10 dapet kuota gede banget. Mantep cuy.</td>\n",
       "      <td>5</td>\n",
       "      <td>0</td>\n",
       "      <td>6.10.0-9</td>\n",
       "      <td>2022-05-26 13:55:04</td>\n",
       "      <td>None</td>\n",
       "      <td>NaT</td>\n",
       "      <td>newest</td>\n",
       "      <td>com.telkomsel.telkomselcm</td>\n",
       "    </tr>\n",
       "    <tr>\n",
       "      <th>4</th>\n",
       "      <td>gp:AOqpTOH_88ly8JgxQZQPQXLQGPSvDJPfe13fG6foTbHyNBQDD00wYKAfKJ-LtrUGpAR0wCYUTHjbAvZY2R9sSWc</td>\n",
       "      <td>heri yadi</td>\n",
       "      <td>https://play-lh.googleusercontent.com/a/AATXAJzFpDP8FPfj1uZc1lagZjRmW0M3HS1Sn8LGV4Vl=mo</td>\n",
       "      <td>Mantap</td>\n",
       "      <td>5</td>\n",
       "      <td>0</td>\n",
       "      <td>6.8.0</td>\n",
       "      <td>2022-05-26 13:52:16</td>\n",
       "      <td>None</td>\n",
       "      <td>NaT</td>\n",
       "      <td>newest</td>\n",
       "      <td>com.telkomsel.telkomselcm</td>\n",
       "    </tr>\n",
       "    <tr>\n",
       "      <th>...</th>\n",
       "      <td>...</td>\n",
       "      <td>...</td>\n",
       "      <td>...</td>\n",
       "      <td>...</td>\n",
       "      <td>...</td>\n",
       "      <td>...</td>\n",
       "      <td>...</td>\n",
       "      <td>...</td>\n",
       "      <td>...</td>\n",
       "      <td>...</td>\n",
       "      <td>...</td>\n",
       "      <td>...</td>\n",
       "    </tr>\n",
       "    <tr>\n",
       "      <th>4995</th>\n",
       "      <td>gp:AOqpTOGSvavS4au1ZX5KubDHpn3LbfLv_De02BFQYsEKic8ppCw6gtsBKKrF0teijxEpjnmzaGI1PKcx4NkWJw8</td>\n",
       "      <td>pendra uwoe</td>\n",
       "      <td>https://play-lh.googleusercontent.com/a-/AOh14Gg1FcVQQiOszX9GXAlxljy6qb4HxBWvrns0whzx</td>\n",
       "      <td>mantap</td>\n",
       "      <td>5</td>\n",
       "      <td>0</td>\n",
       "      <td>6.10.0-9</td>\n",
       "      <td>2022-05-15 21:53:24</td>\n",
       "      <td>None</td>\n",
       "      <td>NaT</td>\n",
       "      <td>newest</td>\n",
       "      <td>com.telkomsel.telkomselcm</td>\n",
       "    </tr>\n",
       "    <tr>\n",
       "      <th>4996</th>\n",
       "      <td>gp:AOqpTOGsUIWu0zqGuzsfkt-JK3rDRDaJ-PNqL_eJFvpRtHWKgYIBq5YDmazK2X1P3fHl_jIzOjvnk4vaZdetJDI</td>\n",
       "      <td>Zaki Farisa</td>\n",
       "      <td>https://play-lh.googleusercontent.com/a/AATXAJzp7Mlxet-akMglUNXYaVm5Iisq8b9O99fSqaOt=mo</td>\n",
       "      <td>baik</td>\n",
       "      <td>5</td>\n",
       "      <td>0</td>\n",
       "      <td>6.10.0-9</td>\n",
       "      <td>2022-05-15 21:51:45</td>\n",
       "      <td>None</td>\n",
       "      <td>NaT</td>\n",
       "      <td>newest</td>\n",
       "      <td>com.telkomsel.telkomselcm</td>\n",
       "    </tr>\n",
       "    <tr>\n",
       "      <th>4997</th>\n",
       "      <td>gp:AOqpTOFQt3hTUNGB2JyENJ03iPR15-fW5T1WtEkJ15vqMPrr7ZuuHF9zw5OqHjO6ygY-I8f1_xf6oD3DTjhWZtU</td>\n",
       "      <td>Danu Prasetyo</td>\n",
       "      <td>https://play-lh.googleusercontent.com/a-/AOh14Gj0dH3c7j9WXXl-Pq1dwc142-l1vrj7iOcex8qstA</td>\n",
       "      <td>baik dan mohon untuk lebih banyak promo potongan harga</td>\n",
       "      <td>5</td>\n",
       "      <td>0</td>\n",
       "      <td>6.10.0-9</td>\n",
       "      <td>2022-05-15 21:49:59</td>\n",
       "      <td>None</td>\n",
       "      <td>NaT</td>\n",
       "      <td>newest</td>\n",
       "      <td>com.telkomsel.telkomselcm</td>\n",
       "    </tr>\n",
       "    <tr>\n",
       "      <th>4998</th>\n",
       "      <td>gp:AOqpTOH6tWA3V6UGeQPZRj80IligO5H50J7ibNnoMrFEzKlXXO29vvd3GIDmScui3oC3aNNWDzh2Czc8i6PlyoQ</td>\n",
       "      <td>Supri Yanto</td>\n",
       "      <td>https://play-lh.googleusercontent.com/a/AATXAJzynyyp6p32lcrK0GvfD_LJ9gksyQoHGqHlwxZI=mo</td>\n",
       "      <td>sangat membantu</td>\n",
       "      <td>5</td>\n",
       "      <td>0</td>\n",
       "      <td>6.10.0-9</td>\n",
       "      <td>2022-05-15 21:49:19</td>\n",
       "      <td>None</td>\n",
       "      <td>NaT</td>\n",
       "      <td>newest</td>\n",
       "      <td>com.telkomsel.telkomselcm</td>\n",
       "    </tr>\n",
       "    <tr>\n",
       "      <th>4999</th>\n",
       "      <td>gp:AOqpTOGYN_scHRZ_g_XkwvYnrmb_R7uxf8Z3d24FodTBz_axzdCt8MaR3ID03HURaeTAXLAtqc00UfeKmEEazbI</td>\n",
       "      <td>Ari Andrian</td>\n",
       "      <td>https://play-lh.googleusercontent.com/a/AATXAJwWNUAVIE6FQHRVtJVE_ngHP4HTBJ4Yx2MquRZY=mo</td>\n",
       "      <td>kotanya murahin dong jangan mahal2</td>\n",
       "      <td>5</td>\n",
       "      <td>0</td>\n",
       "      <td>6.9.1</td>\n",
       "      <td>2022-05-15 21:42:26</td>\n",
       "      <td>None</td>\n",
       "      <td>NaT</td>\n",
       "      <td>newest</td>\n",
       "      <td>com.telkomsel.telkomselcm</td>\n",
       "    </tr>\n",
       "  </tbody>\n",
       "</table>\n",
       "<p>5000 rows × 12 columns</p>\n",
       "</div>"
      ],
      "text/plain": [
       "                                                                                        reviewId  \\\n",
       "0     gp:AOqpTOHn0LrIAJ0PyL7pp7fbwSTjIyqS_Zzhgg3LPdMDs1NgVt0C7FV99YZcAudIySkob8eZf1ZrQAnrglwrPck   \n",
       "1     gp:AOqpTOGQnx9o6AsHz0Z_Q5WIKGezyn2QY0_FXN8-KHI44Fb5EwOwVKjOK6AH3vbf-nd2AuevyzXsxTyCJ1PVYys   \n",
       "2     gp:AOqpTOFNk1MC1CBh6rLBFbUNM4awNR9_9hRWziJWCbYAwToIajzUxuSY4AlZpKt2fPGqE7vXKQZg8ZQ35q1C9_s   \n",
       "3     gp:AOqpTOGcH9GUnt8BMqsw_bhiExuGgY-bgKqn0b65VVhUA989mnelSFZLvcdfmdbXi4dt6KkDu6PSrAN1oWswBoU   \n",
       "4     gp:AOqpTOH_88ly8JgxQZQPQXLQGPSvDJPfe13fG6foTbHyNBQDD00wYKAfKJ-LtrUGpAR0wCYUTHjbAvZY2R9sSWc   \n",
       "...                                                                                          ...   \n",
       "4995  gp:AOqpTOGSvavS4au1ZX5KubDHpn3LbfLv_De02BFQYsEKic8ppCw6gtsBKKrF0teijxEpjnmzaGI1PKcx4NkWJw8   \n",
       "4996  gp:AOqpTOGsUIWu0zqGuzsfkt-JK3rDRDaJ-PNqL_eJFvpRtHWKgYIBq5YDmazK2X1P3fHl_jIzOjvnk4vaZdetJDI   \n",
       "4997  gp:AOqpTOFQt3hTUNGB2JyENJ03iPR15-fW5T1WtEkJ15vqMPrr7ZuuHF9zw5OqHjO6ygY-I8f1_xf6oD3DTjhWZtU   \n",
       "4998  gp:AOqpTOH6tWA3V6UGeQPZRj80IligO5H50J7ibNnoMrFEzKlXXO29vvd3GIDmScui3oC3aNNWDzh2Czc8i6PlyoQ   \n",
       "4999  gp:AOqpTOGYN_scHRZ_g_XkwvYnrmb_R7uxf8Z3d24FodTBz_axzdCt8MaR3ID03HURaeTAXLAtqc00UfeKmEEazbI   \n",
       "\n",
       "             userName  \\\n",
       "0     Yasha Yudistira   \n",
       "1        Rudi Kartono   \n",
       "2          Daswar 309   \n",
       "3          Agil Muasa   \n",
       "4           heri yadi   \n",
       "...               ...   \n",
       "4995      pendra uwoe   \n",
       "4996      Zaki Farisa   \n",
       "4997    Danu Prasetyo   \n",
       "4998      Supri Yanto   \n",
       "4999      Ari Andrian   \n",
       "\n",
       "                                                                                    userImage  \\\n",
       "0     https://play-lh.googleusercontent.com/a/AATXAJy7lVJAn7KR7mJjUyZdQhdpfmnUWsXKP9Wj6ImT=mo   \n",
       "1       https://play-lh.googleusercontent.com/a-/AOh14GguoZsTT0l08yiEcQktwG3ObG3H2m_Sy7obUpyJ   \n",
       "2     https://play-lh.googleusercontent.com/a/AATXAJxeoV9YFCz8cNzTG6upySxmSlkDlcSomX0nD4uc=mo   \n",
       "3     https://play-lh.googleusercontent.com/a/AATXAJz12mTVKAG_ANh5YHw7e2bS9416ym2zd1DoMFtq=mo   \n",
       "4     https://play-lh.googleusercontent.com/a/AATXAJzFpDP8FPfj1uZc1lagZjRmW0M3HS1Sn8LGV4Vl=mo   \n",
       "...                                                                                       ...   \n",
       "4995    https://play-lh.googleusercontent.com/a-/AOh14Gg1FcVQQiOszX9GXAlxljy6qb4HxBWvrns0whzx   \n",
       "4996  https://play-lh.googleusercontent.com/a/AATXAJzp7Mlxet-akMglUNXYaVm5Iisq8b9O99fSqaOt=mo   \n",
       "4997  https://play-lh.googleusercontent.com/a-/AOh14Gj0dH3c7j9WXXl-Pq1dwc142-l1vrj7iOcex8qstA   \n",
       "4998  https://play-lh.googleusercontent.com/a/AATXAJzynyyp6p32lcrK0GvfD_LJ9gksyQoHGqHlwxZI=mo   \n",
       "4999  https://play-lh.googleusercontent.com/a/AATXAJwWNUAVIE6FQHRVtJVE_ngHP4HTBJ4Yx2MquRZY=mo   \n",
       "\n",
       "                                                                                                                         content  \\\n",
       "0                                                                                    Keren dan sangat mudah liat pulsa tau kuota   \n",
       "1                                                                                                                         Mantap   \n",
       "2                                                                                                             BismiLLah Baik ...   \n",
       "3     Makasih Telkomsel, hari ini gw dapet promo kuota 27 GB. Cuma tuker poin sama pulsa 10 dapet kuota gede banget. Mantep cuy.   \n",
       "4                                                                                                                         Mantap   \n",
       "...                                                                                                                          ...   \n",
       "4995                                                                                                                      mantap   \n",
       "4996                                                                                                                        baik   \n",
       "4997                                                                      baik dan mohon untuk lebih banyak promo potongan harga   \n",
       "4998                                                                                                             sangat membantu   \n",
       "4999                                                                                          kotanya murahin dong jangan mahal2   \n",
       "\n",
       "      score  thumbsUpCount reviewCreatedVersion                  at  \\\n",
       "0         5              0                 None 2022-05-26 14:02:19   \n",
       "1         5              0             6.10.0-9 2022-05-26 13:59:38   \n",
       "2         5              0             6.10.0-9 2022-05-26 13:55:18   \n",
       "3         5              0             6.10.0-9 2022-05-26 13:55:04   \n",
       "4         5              0                6.8.0 2022-05-26 13:52:16   \n",
       "...     ...            ...                  ...                 ...   \n",
       "4995      5              0             6.10.0-9 2022-05-15 21:53:24   \n",
       "4996      5              0             6.10.0-9 2022-05-15 21:51:45   \n",
       "4997      5              0             6.10.0-9 2022-05-15 21:49:59   \n",
       "4998      5              0             6.10.0-9 2022-05-15 21:49:19   \n",
       "4999      5              0                6.9.1 2022-05-15 21:42:26   \n",
       "\n",
       "     replyContent repliedAt sortOrder                      appId  \n",
       "0            None       NaT    newest  com.telkomsel.telkomselcm  \n",
       "1            None       NaT    newest  com.telkomsel.telkomselcm  \n",
       "2            None       NaT    newest  com.telkomsel.telkomselcm  \n",
       "3            None       NaT    newest  com.telkomsel.telkomselcm  \n",
       "4            None       NaT    newest  com.telkomsel.telkomselcm  \n",
       "...           ...       ...       ...                        ...  \n",
       "4995         None       NaT    newest  com.telkomsel.telkomselcm  \n",
       "4996         None       NaT    newest  com.telkomsel.telkomselcm  \n",
       "4997         None       NaT    newest  com.telkomsel.telkomselcm  \n",
       "4998         None       NaT    newest  com.telkomsel.telkomselcm  \n",
       "4999         None       NaT    newest  com.telkomsel.telkomselcm  \n",
       "\n",
       "[5000 rows x 12 columns]"
      ]
     },
     "execution_count": 35,
     "metadata": {},
     "output_type": "execute_result"
    }
   ],
   "source": [
    "df = pd.DataFrame(app_reviews)\n",
    "df"
   ]
  },
  {
   "cell_type": "code",
   "execution_count": 36,
   "id": "bb3fadd1",
   "metadata": {},
   "outputs": [
    {
     "data": {
      "text/plain": [
       "5    5000\n",
       "Name: score, dtype: int64"
      ]
     },
     "execution_count": 36,
     "metadata": {},
     "output_type": "execute_result"
    }
   ],
   "source": [
    "df['score'].value_counts()"
   ]
  },
  {
   "cell_type": "markdown",
   "id": "f14158b2",
   "metadata": {},
   "source": [
    "## Hapus ulasan dengan rating 3 bintang agar dataset balanced"
   ]
  },
  {
   "cell_type": "code",
   "execution_count": 37,
   "id": "11f8d59a",
   "metadata": {},
   "outputs": [
    {
     "data": {
      "text/plain": [
       "5000"
      ]
     },
     "execution_count": 37,
     "metadata": {},
     "output_type": "execute_result"
    }
   ],
   "source": [
    "df.drop(df.loc[df['score']==3].index, inplace=True)\n",
    "len(df)"
   ]
  },
  {
   "cell_type": "code",
   "execution_count": 38,
   "id": "484c5a28",
   "metadata": {},
   "outputs": [],
   "source": [
    "df.drop(['reviewId', 'userImage', 'userName', 'thumbsUpCount', 'reviewCreatedVersion', 'at', 'replyContent', 'repliedAt','sortOrder','appId', 'score'], axis=1, inplace=True)"
   ]
  },
  {
   "cell_type": "code",
   "execution_count": 39,
   "id": "b30535d2",
   "metadata": {},
   "outputs": [
    {
     "data": {
      "text/html": [
       "<div>\n",
       "<style scoped>\n",
       "    .dataframe tbody tr th:only-of-type {\n",
       "        vertical-align: middle;\n",
       "    }\n",
       "\n",
       "    .dataframe tbody tr th {\n",
       "        vertical-align: top;\n",
       "    }\n",
       "\n",
       "    .dataframe thead th {\n",
       "        text-align: right;\n",
       "    }\n",
       "</style>\n",
       "<table border=\"1\" class=\"dataframe\">\n",
       "  <thead>\n",
       "    <tr style=\"text-align: right;\">\n",
       "      <th></th>\n",
       "      <th>content</th>\n",
       "    </tr>\n",
       "  </thead>\n",
       "  <tbody>\n",
       "    <tr>\n",
       "      <th>0</th>\n",
       "      <td>Keren dan sangat mudah liat pulsa tau kuota</td>\n",
       "    </tr>\n",
       "    <tr>\n",
       "      <th>1</th>\n",
       "      <td>Mantap</td>\n",
       "    </tr>\n",
       "    <tr>\n",
       "      <th>2</th>\n",
       "      <td>BismiLLah Baik ...</td>\n",
       "    </tr>\n",
       "    <tr>\n",
       "      <th>3</th>\n",
       "      <td>Makasih Telkomsel, hari ini gw dapet promo kuota 27 GB. Cuma tuker poin sama pulsa 10 dapet kuota gede banget. Mantep cuy.</td>\n",
       "    </tr>\n",
       "    <tr>\n",
       "      <th>4</th>\n",
       "      <td>Mantap</td>\n",
       "    </tr>\n",
       "    <tr>\n",
       "      <th>...</th>\n",
       "      <td>...</td>\n",
       "    </tr>\n",
       "    <tr>\n",
       "      <th>4995</th>\n",
       "      <td>mantap</td>\n",
       "    </tr>\n",
       "    <tr>\n",
       "      <th>4996</th>\n",
       "      <td>baik</td>\n",
       "    </tr>\n",
       "    <tr>\n",
       "      <th>4997</th>\n",
       "      <td>baik dan mohon untuk lebih banyak promo potongan harga</td>\n",
       "    </tr>\n",
       "    <tr>\n",
       "      <th>4998</th>\n",
       "      <td>sangat membantu</td>\n",
       "    </tr>\n",
       "    <tr>\n",
       "      <th>4999</th>\n",
       "      <td>kotanya murahin dong jangan mahal2</td>\n",
       "    </tr>\n",
       "  </tbody>\n",
       "</table>\n",
       "<p>5000 rows × 1 columns</p>\n",
       "</div>"
      ],
      "text/plain": [
       "                                                                                                                         content\n",
       "0                                                                                    Keren dan sangat mudah liat pulsa tau kuota\n",
       "1                                                                                                                         Mantap\n",
       "2                                                                                                             BismiLLah Baik ...\n",
       "3     Makasih Telkomsel, hari ini gw dapet promo kuota 27 GB. Cuma tuker poin sama pulsa 10 dapet kuota gede banget. Mantep cuy.\n",
       "4                                                                                                                         Mantap\n",
       "...                                                                                                                          ...\n",
       "4995                                                                                                                      mantap\n",
       "4996                                                                                                                        baik\n",
       "4997                                                                      baik dan mohon untuk lebih banyak promo potongan harga\n",
       "4998                                                                                                             sangat membantu\n",
       "4999                                                                                          kotanya murahin dong jangan mahal2\n",
       "\n",
       "[5000 rows x 1 columns]"
      ]
     },
     "execution_count": 39,
     "metadata": {},
     "output_type": "execute_result"
    }
   ],
   "source": [
    "pd.options.display.max_colwidth=1000\n",
    "df"
   ]
  },
  {
   "cell_type": "code",
   "execution_count": 41,
   "id": "6ba64234",
   "metadata": {},
   "outputs": [],
   "source": [
    "df.to_csv(\"../dataset/raw_dataset.csv\", index=None)"
   ]
  },
  {
   "cell_type": "code",
   "execution_count": null,
   "id": "a612b1cf",
   "metadata": {},
   "outputs": [],
   "source": []
  }
 ],
 "metadata": {
  "kernelspec": {
   "display_name": "Python 3",
   "language": "python",
   "name": "python3"
  },
  "language_info": {
   "codemirror_mode": {
    "name": "ipython",
    "version": 3
   },
   "file_extension": ".py",
   "mimetype": "text/x-python",
   "name": "python",
   "nbconvert_exporter": "python",
   "pygments_lexer": "ipython3",
   "version": "3.8.8"
  }
 },
 "nbformat": 4,
 "nbformat_minor": 5
}
