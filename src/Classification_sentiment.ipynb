{
 "cells": [
  {
   "cell_type": "code",
   "execution_count": 37,
   "id": "361d0aa9",
   "metadata": {},
   "outputs": [],
   "source": [
    "import pandas as pd\n",
    "import matplotlib.pyplot as plt\n",
    "import seaborn as sns\n",
    "from sklearn.model_selection import train_test_split  \n",
    "import time\n",
    "from sklearn.ensemble import RandomForestClassifier\n",
    "from sklearn.metrics import classification_report, confusion_matrix, accuracy_score, recall_score, precision_score, f1_score, roc_auc_score"
   ]
  },
  {
   "cell_type": "code",
   "execution_count": 2,
   "id": "060572aa",
   "metadata": {},
   "outputs": [
    {
     "data": {
      "text/html": [
       "<div>\n",
       "<style scoped>\n",
       "    .dataframe tbody tr th:only-of-type {\n",
       "        vertical-align: middle;\n",
       "    }\n",
       "\n",
       "    .dataframe tbody tr th {\n",
       "        vertical-align: top;\n",
       "    }\n",
       "\n",
       "    .dataframe thead th {\n",
       "        text-align: right;\n",
       "    }\n",
       "</style>\n",
       "<table border=\"1\" class=\"dataframe\">\n",
       "  <thead>\n",
       "    <tr style=\"text-align: right;\">\n",
       "      <th></th>\n",
       "      <th>text</th>\n",
       "      <th>score</th>\n",
       "      <th>label</th>\n",
       "    </tr>\n",
       "  </thead>\n",
       "  <tbody>\n",
       "    <tr>\n",
       "      <th>0</th>\n",
       "      <td>keren sangat mudah lihat pulsa tau kuota</td>\n",
       "      <td>2</td>\n",
       "      <td>positif</td>\n",
       "    </tr>\n",
       "    <tr>\n",
       "      <th>1</th>\n",
       "      <td>mantap</td>\n",
       "      <td>1</td>\n",
       "      <td>positif</td>\n",
       "    </tr>\n",
       "    <tr>\n",
       "      <th>2</th>\n",
       "      <td>bismillah baik</td>\n",
       "      <td>2</td>\n",
       "      <td>positif</td>\n",
       "    </tr>\n",
       "    <tr>\n",
       "      <th>3</th>\n",
       "      <td>terima kasih telkomsel hari gue promo kuota gb...</td>\n",
       "      <td>2</td>\n",
       "      <td>positif</td>\n",
       "    </tr>\n",
       "    <tr>\n",
       "      <th>4</th>\n",
       "      <td>mantap</td>\n",
       "      <td>1</td>\n",
       "      <td>positif</td>\n",
       "    </tr>\n",
       "    <tr>\n",
       "      <th>...</th>\n",
       "      <td>...</td>\n",
       "      <td>...</td>\n",
       "      <td>...</td>\n",
       "    </tr>\n",
       "    <tr>\n",
       "      <th>4591</th>\n",
       "      <td>sangat bantu</td>\n",
       "      <td>1</td>\n",
       "      <td>positif</td>\n",
       "    </tr>\n",
       "    <tr>\n",
       "      <th>4592</th>\n",
       "      <td>mantap</td>\n",
       "      <td>1</td>\n",
       "      <td>positif</td>\n",
       "    </tr>\n",
       "    <tr>\n",
       "      <th>4593</th>\n",
       "      <td>baik</td>\n",
       "      <td>1</td>\n",
       "      <td>positif</td>\n",
       "    </tr>\n",
       "    <tr>\n",
       "      <th>4594</th>\n",
       "      <td>baik mohon lebih banyak promo potong harga</td>\n",
       "      <td>2</td>\n",
       "      <td>positif</td>\n",
       "    </tr>\n",
       "    <tr>\n",
       "      <th>4595</th>\n",
       "      <td>sangat bantu</td>\n",
       "      <td>1</td>\n",
       "      <td>positif</td>\n",
       "    </tr>\n",
       "  </tbody>\n",
       "</table>\n",
       "<p>4596 rows × 3 columns</p>\n",
       "</div>"
      ],
      "text/plain": [
       "                                                   text  score    label\n",
       "0              keren sangat mudah lihat pulsa tau kuota      2  positif\n",
       "1                                                mantap      1  positif\n",
       "2                                        bismillah baik      2  positif\n",
       "3     terima kasih telkomsel hari gue promo kuota gb...      2  positif\n",
       "4                                                mantap      1  positif\n",
       "...                                                 ...    ...      ...\n",
       "4591                                       sangat bantu      1  positif\n",
       "4592                                             mantap      1  positif\n",
       "4593                                               baik      1  positif\n",
       "4594         baik mohon lebih banyak promo potong harga      2  positif\n",
       "4595                                       sangat bantu      1  positif\n",
       "\n",
       "[4596 rows x 3 columns]"
      ]
     },
     "execution_count": 2,
     "metadata": {},
     "output_type": "execute_result"
    }
   ],
   "source": [
    "df = pd.read_csv('../dataset/dataset_jadi.csv')\n",
    "df"
   ]
  },
  {
   "cell_type": "code",
   "execution_count": 3,
   "id": "a3458071",
   "metadata": {},
   "outputs": [],
   "source": [
    "x = df['text']\n",
    "y = df['label']"
   ]
  },
  {
   "cell_type": "code",
   "execution_count": 4,
   "id": "1fd4df3d",
   "metadata": {},
   "outputs": [],
   "source": [
    "from sklearn.preprocessing import LabelEncoder\n",
    "\n",
    "le = LabelEncoder()\n",
    "le.fit([\"positif\", \"negatif\"])\n",
    "\n",
    "y = le.transform(df['label'].values)"
   ]
  },
  {
   "cell_type": "code",
   "execution_count": 5,
   "id": "c3cdc5e8",
   "metadata": {},
   "outputs": [],
   "source": [
    "from sklearn.feature_extraction.text import TfidfVectorizer\n",
    "tfidfconverter = TfidfVectorizer(max_features=2000, min_df=5, max_df=0.7, ngram_range=(1,3))\n",
    "X1 = tfidfconverter.fit_transform(x).toarray()"
   ]
  },
  {
   "cell_type": "code",
   "execution_count": 6,
   "id": "b621fc7d",
   "metadata": {},
   "outputs": [],
   "source": [
    "from imblearn.over_sampling import SMOTE\n",
    "oversample = SMOTE(k_neighbors=5)\n",
    "X_smote, Y_smote = oversample.fit_resample(X1, y)"
   ]
  },
  {
   "cell_type": "code",
   "execution_count": 7,
   "id": "2bffd2a4",
   "metadata": {},
   "outputs": [
    {
     "name": "stdout",
     "output_type": "stream",
     "text": [
      "Counter({1: 4417, 0: 4417})\n"
     ]
    }
   ],
   "source": [
    "from collections import Counter\n",
    "\n",
    "counter = Counter(Y_smote)\n",
    "print(counter)"
   ]
  },
  {
   "cell_type": "code",
   "execution_count": 8,
   "id": "df6adab6",
   "metadata": {},
   "outputs": [],
   "source": [
    "data = {\n",
    "    'label' : Y_smote\n",
    "}\n",
    "y_plot = pd.DataFrame(data)"
   ]
  },
  {
   "cell_type": "code",
   "execution_count": 9,
   "id": "77aeb34e",
   "metadata": {},
   "outputs": [
    {
     "data": {
      "text/plain": [
       "(array([0, 1]), [Text(0, 0, '0'), Text(1, 0, '1')])"
      ]
     },
     "execution_count": 9,
     "metadata": {},
     "output_type": "execute_result"
    },
    {
     "data": {
      "image/png": "[encoded data removed]",
      "text/plain": [
       "<Figure size 864x360 with 1 Axes>"
      ]
     },
     "metadata": {
      "needs_background": "light"
     },
     "output_type": "display_data"
    }
   ],
   "source": [
    "plt.figure(figsize=(12,5))\n",
    "sns.countplot(x='label', data=y_plot)\n",
    "plt.title('Tabel Distribusi Kolom Sentiment', fontsize=16)\n",
    "plt.ylabel('Persentase', fontsize=16)\n",
    "plt.xlabel('Sentiment', fontsize=16)\n",
    "plt.xticks(rotation='vertical')"
   ]
  },
  {
   "cell_type": "markdown",
   "id": "7ac1c280",
   "metadata": {},
   "source": [
    "# Dataset 70vs30"
   ]
  },
  {
   "cell_type": "code",
   "execution_count": 27,
   "id": "79a982fb",
   "metadata": {},
   "outputs": [],
   "source": [
    "X_train, X_test, y_train, y_test = train_test_split(X_smote, Y_smote, test_size=0.30, random_state=0)"
   ]
  },
  {
   "cell_type": "code",
   "execution_count": 28,
   "id": "d2e0eb78",
   "metadata": {},
   "outputs": [],
   "source": [
    "text_classifier_en = RandomForestClassifier(n_estimators=100, random_state=0)\n",
    "t0_en = time.time()\n",
    "text_classifier_en.fit(X_train, y_train)\n",
    "t1_en = time.time()"
   ]
  },
  {
   "cell_type": "code",
   "execution_count": 29,
   "id": "f899db30",
   "metadata": {},
   "outputs": [],
   "source": [
    "predictions_en = text_classifier_en.predict(X_test)\n",
    "t2_en = time.time()\n",
    "time_linear_train_en = t1_en-t0_en\n",
    "time_linear_predict_en = t2_en-t1_en"
   ]
  },
  {
   "cell_type": "code",
   "execution_count": 30,
   "id": "9d07aef0",
   "metadata": {},
   "outputs": [
    {
     "name": "stdout",
     "output_type": "stream",
     "text": [
      "EN Training time: 1.997488s; Prediction time: 0.125878s\n"
     ]
    }
   ],
   "source": [
    "print(\"EN Training time: %fs; Prediction time: %fs\" % (time_linear_train_en, time_linear_predict_en))"
   ]
  },
  {
   "cell_type": "code",
   "execution_count": 31,
   "id": "9339b39e",
   "metadata": {},
   "outputs": [
    {
     "name": "stdout",
     "output_type": "stream",
     "text": [
      "Random Forest\n",
      "Accuracy  =  96.91 %\n",
      "Precision =  96.58 %\n",
      "Recall    =  97.31 %\n",
      "F1-Score  =  96.94 %\n",
      "ROC AUC   =  0.9690364518112065\n",
      "\n"
     ]
    }
   ],
   "source": [
    "print(\"Random Forest\")\n",
    "print('Accuracy  = ', round(accuracy_score(y_test, predictions_en)*100,2),'%')\n",
    "print('Precision = ', round(precision_score(y_test, predictions_en)*100,2),'%')\n",
    "print('Recall    = ', round(recall_score(y_test, predictions_en)*100,2),'%')\n",
    "print('F1-Score  = ', round(f1_score(y_test, predictions_en)*100,2),'%')\n",
    "print('ROC AUC   = ', roc_auc_score(y_test, predictions_en))\n",
    "print(\"\")"
   ]
  },
  {
   "cell_type": "code",
   "execution_count": 15,
   "id": "b909a0d5",
   "metadata": {},
   "outputs": [
    {
     "name": "stdout",
     "output_type": "stream",
     "text": [
      "['positif']\n"
     ]
    }
   ],
   "source": [
    "# Random Forest\n",
    "# Input text\n",
    "review = \"saya suka sekali aplikasi ini, sangat mendukung saya\"\n",
    "\n",
    "review_vector = tfidfconverter.transform([review]).toarray() # vectorizing\n",
    "pred_text = text_classifier_en.predict(review_vector)\n",
    "pred_text = le.inverse_transform(pred_text)\n",
    "print(pred_text)"
   ]
  },
  {
   "cell_type": "markdown",
   "id": "239924c8",
   "metadata": {},
   "source": [
    "# Dataset 75vs25"
   ]
  },
  {
   "cell_type": "code",
   "execution_count": 32,
   "id": "1515e4ad",
   "metadata": {},
   "outputs": [],
   "source": [
    "X_train, X_test, y_train, y_test = train_test_split(X_smote, Y_smote, test_size=0.25, random_state=0)"
   ]
  },
  {
   "cell_type": "code",
   "execution_count": 33,
   "id": "ace598e1",
   "metadata": {},
   "outputs": [],
   "source": [
    "text_classifier_en = RandomForestClassifier(n_estimators=100, random_state=0)\n",
    "t0_en = time.time()\n",
    "text_classifier_en.fit(X_train, y_train)\n",
    "t1_en = time.time()"
   ]
  },
  {
   "cell_type": "code",
   "execution_count": 34,
   "id": "812a75fa",
   "metadata": {},
   "outputs": [],
   "source": [
    "predictions_en = text_classifier_en.predict(X_test)\n",
    "t2_en = time.time()\n",
    "time_linear_train_en = t1_en-t0_en\n",
    "time_linear_predict_en = t2_en-t1_en"
   ]
  },
  {
   "cell_type": "code",
   "execution_count": 35,
   "id": "a511ad81",
   "metadata": {},
   "outputs": [
    {
     "name": "stdout",
     "output_type": "stream",
     "text": [
      "EN Training time: 2.343774s; Prediction time: 1.800335s\n"
     ]
    }
   ],
   "source": [
    "print(\"EN Training time: %fs; Prediction time: %fs\" % (time_linear_train_en, time_linear_predict_en))"
   ]
  },
  {
   "cell_type": "code",
   "execution_count": 36,
   "id": "50ac1753",
   "metadata": {},
   "outputs": [
    {
     "name": "stdout",
     "output_type": "stream",
     "text": [
      "Random Forest\n",
      "Accuracy  =  97.1 %\n",
      "Precision =  96.95 %\n",
      "Recall    =  97.3 %\n",
      "F1-Score  =  97.12 %\n",
      "ROC AUC   =  0.9710178786611908\n",
      "\n"
     ]
    }
   ],
   "source": [
    "print(\"Random Forest\")\n",
    "print('Accuracy  = ', round(accuracy_score(y_test, predictions_en)*100,2),'%')\n",
    "print('Precision = ', round(precision_score(y_test, predictions_en)*100,2),'%')\n",
    "print('Recall    = ', round(recall_score(y_test, predictions_en)*100,2),'%')\n",
    "print('F1-Score  = ', round(f1_score(y_test, predictions_en)*100,2),'%')\n",
    "print('ROC AUC   = ', roc_auc_score(y_test, predictions_en))\n",
    "print(\"\")"
   ]
  },
  {
   "cell_type": "markdown",
   "id": "ba5ad0a8",
   "metadata": {},
   "source": [
    "# Dataset 80vs20"
   ]
  },
  {
   "cell_type": "code",
   "execution_count": 38,
   "id": "20d516be",
   "metadata": {},
   "outputs": [],
   "source": [
    "X_train, X_test, y_train, y_test = train_test_split(X_smote, Y_smote, test_size=0.20, random_state=0)"
   ]
  },
  {
   "cell_type": "code",
   "execution_count": 39,
   "id": "92045913",
   "metadata": {},
   "outputs": [],
   "source": [
    "text_classifier_en = RandomForestClassifier(n_estimators=100, random_state=0)\n",
    "t0_en = time.time()\n",
    "text_classifier_en.fit(X_train, y_train)\n",
    "t1_en = time.time()"
   ]
  },
  {
   "cell_type": "code",
   "execution_count": 40,
   "id": "e034479a",
   "metadata": {},
   "outputs": [],
   "source": [
    "predictions_en = text_classifier_en.predict(X_test)\n",
    "t2_en = time.time()\n",
    "time_linear_train_en = t1_en-t0_en\n",
    "time_linear_predict_en = t2_en-t1_en"
   ]
  },
  {
   "cell_type": "code",
   "execution_count": 41,
   "id": "cad21335",
   "metadata": {},
   "outputs": [
    {
     "name": "stdout",
     "output_type": "stream",
     "text": [
      "EN Training time: 2.575825s; Prediction time: 1.135766s\n"
     ]
    }
   ],
   "source": [
    "print(\"EN Training time: %fs; Prediction time: %fs\" % (time_linear_train_en, time_linear_predict_en))"
   ]
  },
  {
   "cell_type": "code",
   "execution_count": 42,
   "id": "2a5f2a7f",
   "metadata": {},
   "outputs": [
    {
     "name": "stdout",
     "output_type": "stream",
     "text": [
      "Random Forest\n",
      "Accuracy  =  96.83 %\n",
      "Precision =  96.75 %\n",
      "Recall    =  96.97 %\n",
      "F1-Score  =  96.86 %\n",
      "ROC AUC   =  0.9682959734329598\n",
      "\n"
     ]
    }
   ],
   "source": [
    "print(\"Random Forest\")\n",
    "print('Accuracy  = ', round(accuracy_score(y_test, predictions_en)*100,2),'%')\n",
    "print('Precision = ', round(precision_score(y_test, predictions_en)*100,2),'%')\n",
    "print('Recall    = ', round(recall_score(y_test, predictions_en)*100,2),'%')\n",
    "print('F1-Score  = ', round(f1_score(y_test, predictions_en)*100,2),'%')\n",
    "print('ROC AUC   = ', roc_auc_score(y_test, predictions_en))\n",
    "print(\"\")"
   ]
  },
  {
   "cell_type": "markdown",
   "id": "15afe1af",
   "metadata": {},
   "source": [
    "# Dataset 85vs15"
   ]
  },
  {
   "cell_type": "code",
   "execution_count": 43,
   "id": "490c4df8",
   "metadata": {},
   "outputs": [],
   "source": [
    "X_train, X_test, y_train, y_test = train_test_split(X_smote, Y_smote, test_size=0.15, random_state=0)"
   ]
  },
  {
   "cell_type": "code",
   "execution_count": 44,
   "id": "f7501b71",
   "metadata": {},
   "outputs": [],
   "source": [
    "text_classifier_en = RandomForestClassifier(n_estimators=100, random_state=0)\n",
    "t0_en = time.time()\n",
    "text_classifier_en.fit(X_train, y_train)\n",
    "t1_en = time.time()"
   ]
  },
  {
   "cell_type": "code",
   "execution_count": 45,
   "id": "814868ee",
   "metadata": {},
   "outputs": [],
   "source": [
    "predictions_en = text_classifier_en.predict(X_test)\n",
    "t2_en = time.time()\n",
    "time_linear_train_en = t1_en-t0_en\n",
    "time_linear_predict_en = t2_en-t1_en"
   ]
  },
  {
   "cell_type": "code",
   "execution_count": 46,
   "id": "3016dc2a",
   "metadata": {},
   "outputs": [
    {
     "name": "stdout",
     "output_type": "stream",
     "text": [
      "EN Training time: 2.856612s; Prediction time: 0.920384s\n"
     ]
    }
   ],
   "source": [
    "print(\"EN Training time: %fs; Prediction time: %fs\" % (time_linear_train_en, time_linear_predict_en))"
   ]
  },
  {
   "cell_type": "code",
   "execution_count": 47,
   "id": "79dadfe1",
   "metadata": {},
   "outputs": [
    {
     "name": "stdout",
     "output_type": "stream",
     "text": [
      "Random Forest\n",
      "Accuracy  =  97.44 %\n",
      "Precision =  96.9 %\n",
      "Recall    =  98.06 %\n",
      "F1-Score  =  97.48 %\n",
      "ROC AUC   =  0.974292409901711\n",
      "\n"
     ]
    }
   ],
   "source": [
    "print(\"Random Forest\")\n",
    "print('Accuracy  = ', round(accuracy_score(y_test, predictions_en)*100,2),'%')\n",
    "print('Precision = ', round(precision_score(y_test, predictions_en)*100,2),'%')\n",
    "print('Recall    = ', round(recall_score(y_test, predictions_en)*100,2),'%')\n",
    "print('F1-Score  = ', round(f1_score(y_test, predictions_en)*100,2),'%')\n",
    "print('ROC AUC   = ', roc_auc_score(y_test, predictions_en))\n",
    "print(\"\")"
   ]
  },
  {
   "cell_type": "markdown",
   "id": "ab957f5f",
   "metadata": {},
   "source": [
    "# Dataset 90vs10"
   ]
  },
  {
   "cell_type": "code",
   "execution_count": 48,
   "id": "db26948e",
   "metadata": {},
   "outputs": [],
   "source": [
    "X_train, X_test, y_train, y_test = train_test_split(X_smote, Y_smote, test_size=0.1, random_state=0)"
   ]
  },
  {
   "cell_type": "code",
   "execution_count": 49,
   "id": "0f6834b4",
   "metadata": {},
   "outputs": [],
   "source": [
    "text_classifier_en = RandomForestClassifier(n_estimators=100, random_state=0)\n",
    "t0_en = time.time()\n",
    "text_classifier_en.fit(X_train, y_train)\n",
    "t1_en = time.time()"
   ]
  },
  {
   "cell_type": "code",
   "execution_count": 50,
   "id": "dc495a8e",
   "metadata": {},
   "outputs": [],
   "source": [
    "predictions_en = text_classifier_en.predict(X_test)\n",
    "t2_en = time.time()\n",
    "time_linear_train_en = t1_en-t0_en\n",
    "time_linear_predict_en = t2_en-t1_en"
   ]
  },
  {
   "cell_type": "code",
   "execution_count": 51,
   "id": "ec7a3bdd",
   "metadata": {},
   "outputs": [
    {
     "name": "stdout",
     "output_type": "stream",
     "text": [
      "EN Training time: 2.973757s; Prediction time: 3.329055s\n"
     ]
    }
   ],
   "source": [
    "print(\"EN Training time: %fs; Prediction time: %fs\" % (time_linear_train_en, time_linear_predict_en))"
   ]
  },
  {
   "cell_type": "code",
   "execution_count": 52,
   "id": "714e45c2",
   "metadata": {},
   "outputs": [
    {
     "name": "stdout",
     "output_type": "stream",
     "text": [
      "Random Forest\n",
      "Accuracy  =  97.29 %\n",
      "Precision =  96.4 %\n",
      "Recall    =  98.48 %\n",
      "F1-Score  =  97.43 %\n",
      "ROC AUC   =  0.9722820623294556\n",
      "\n"
     ]
    }
   ],
   "source": [
    "print(\"Random Forest\")\n",
    "print('Accuracy  = ', round(accuracy_score(y_test, predictions_en)*100,2),'%')\n",
    "print('Precision = ', round(precision_score(y_test, predictions_en)*100,2),'%')\n",
    "print('Recall    = ', round(recall_score(y_test, predictions_en)*100,2),'%')\n",
    "print('F1-Score  = ', round(f1_score(y_test, predictions_en)*100,2),'%')\n",
    "print('ROC AUC   = ', roc_auc_score(y_test, predictions_en))\n",
    "print(\"\")"
   ]
  },
  {
   "cell_type": "code",
   "execution_count": null,
   "id": "e23df0e6",
   "metadata": {},
   "outputs": [],
   "source": []
  }
 ],
 "metadata": {
  "kernelspec": {
   "display_name": "Python 3",
   "language": "python",
   "name": "python3"
  },
  "language_info": {
   "codemirror_mode": {
    "name": "ipython",
    "version": 3
   },
   "file_extension": ".py",
   "mimetype": "text/x-python",
   "name": "python",
   "nbconvert_exporter": "python",
   "pygments_lexer": "ipython3",
   "version": "3.8.8"
  }
 },
 "nbformat": 4,
 "nbformat_minor": 5
}
