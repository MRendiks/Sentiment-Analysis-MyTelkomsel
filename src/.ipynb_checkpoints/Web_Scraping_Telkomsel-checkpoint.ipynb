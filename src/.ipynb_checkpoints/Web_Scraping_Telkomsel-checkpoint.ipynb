{
 "cells": [
  {
   "cell_type": "code",
   "execution_count": 2,
   "id": "c550a26a",
   "metadata": {},
   "outputs": [
    {
     "name": "stdout",
     "output_type": "stream",
     "text": [
      "Requirement already satisfied: google-play-scraper in c:\\users\\lenovo\\anaconda3\\lib\\site-packages (1.0.3)\n"
     ]
    }
   ],
   "source": [
    "!pip install google-play-scraper"
   ]
  },
  {
   "cell_type": "code",
   "execution_count": 3,
   "id": "83ca81d3",
   "metadata": {},
   "outputs": [],
   "source": [
    "import pandas as pd # library untuk mengubah hasil scraping menjadi dataframe dan mengelola dataframe\n",
    "from tqdm import tqdm # library untuk menampilkan progress bar pada proses scraping\n",
    "\n",
    "from google_play_scraper import Sort, reviews, app # library untuk scraping data"
   ]
  },
  {
   "cell_type": "code",
   "execution_count": 11,
   "id": "16a462de",
   "metadata": {},
   "outputs": [
    {
     "name": "stderr",
     "output_type": "stream",
     "text": [
      "100%|████████████████████████████████████████████████████████████████████████████████████| 1/1 [00:19<00:00, 19.63s/it]\n"
     ]
    }
   ],
   "source": [
    "# mendefinisikan App ID dan variabel hasil scraping data\n",
    "app_id = ['com.telkomsel.telkomselcm']\n",
    "app_reviews = []\n",
    "\n",
    "# function untuk scraping data berada di dalam perulangan For dengan beberapa kondisi tertentu\n",
    "for app in tqdm(app_id):\n",
    "  for score in list(range(1, 6)):\n",
    "    for sort_order in [Sort.MOST_RELEVANT, Sort.NEWEST]:\n",
    "      # scraping data ulasan per pengguna\n",
    "      rvs, _ = reviews(\n",
    "        app,\n",
    "        lang = 'id',\n",
    "        country = 'id',\n",
    "        sort = sort_order,\n",
    "        count= 600 if score == 3 else 600,\n",
    "        filter_score_with = score\n",
    "      )\n",
    "      # menggabungkan hasil scraping ulasan per pengguna menjadi satu hasil dalam bentuk List\n",
    "      for r in rvs:\n",
    "        r['sortOrder'] = 'most_relevant' if sort_order == Sort.MOST_RELEVANT else 'newest'\n",
    "        r['appId'] = app\n",
    "      app_reviews.extend(rvs)"
   ]
  },
  {
   "cell_type": "code",
   "execution_count": 12,
   "id": "25c69d04",
   "metadata": {},
   "outputs": [
    {
     "data": {
      "text/plain": [
       "6000"
      ]
     },
     "execution_count": 12,
     "metadata": {},
     "output_type": "execute_result"
    }
   ],
   "source": [
    "len(app_reviews) # Karena ada batasan dari library \"google-play-scraper\", sehingga kita tidak dapat scraping seluruh hasil ulasan pengguna"
   ]
  },
  {
   "cell_type": "code",
   "execution_count": 13,
   "id": "784d52d4",
   "metadata": {},
   "outputs": [
    {
     "name": "stdout",
     "output_type": "stream",
     "text": [
      "<class 'list'>\n"
     ]
    }
   ],
   "source": [
    "print(type(app_reviews))"
   ]
  },
  {
   "cell_type": "code",
   "execution_count": 14,
   "id": "c70b1047",
   "metadata": {},
   "outputs": [
    {
     "data": {
      "text/html": [
       "<div>\n",
       "<style scoped>\n",
       "    .dataframe tbody tr th:only-of-type {\n",
       "        vertical-align: middle;\n",
       "    }\n",
       "\n",
       "    .dataframe tbody tr th {\n",
       "        vertical-align: top;\n",
       "    }\n",
       "\n",
       "    .dataframe thead th {\n",
       "        text-align: right;\n",
       "    }\n",
       "</style>\n",
       "<table border=\"1\" class=\"dataframe\">\n",
       "  <thead>\n",
       "    <tr style=\"text-align: right;\">\n",
       "      <th></th>\n",
       "      <th>reviewId</th>\n",
       "      <th>userName</th>\n",
       "      <th>userImage</th>\n",
       "      <th>content</th>\n",
       "      <th>score</th>\n",
       "      <th>thumbsUpCount</th>\n",
       "      <th>reviewCreatedVersion</th>\n",
       "      <th>at</th>\n",
       "      <th>replyContent</th>\n",
       "      <th>repliedAt</th>\n",
       "      <th>sortOrder</th>\n",
       "      <th>appId</th>\n",
       "    </tr>\n",
       "  </thead>\n",
       "  <tbody>\n",
       "    <tr>\n",
       "      <th>0</th>\n",
       "      <td>gp:AOqpTOGupk1NuT0T9c7rD22vinZBrEjpHbWmYfBU4Ds...</td>\n",
       "      <td>Firdaus AR</td>\n",
       "      <td>https://play-lh.googleusercontent.com/a-/AOh14...</td>\n",
       "      <td>Tolong buat Telkomsel,prioritas kan dong pengu...</td>\n",
       "      <td>1</td>\n",
       "      <td>149</td>\n",
       "      <td>6.8.0</td>\n",
       "      <td>2022-01-22 19:37:04</td>\n",
       "      <td>Hi, Kak. Maaf jadi ga nyaman. Terkait keluhan ...</td>\n",
       "      <td>2022-01-22 21:48:16</td>\n",
       "      <td>most_relevant</td>\n",
       "      <td>com.telkomsel.telkomselcm</td>\n",
       "    </tr>\n",
       "    <tr>\n",
       "      <th>1</th>\n",
       "      <td>gp:AOqpTOFCS4JvkFIBFEIIK7lBZOAeKkmpu-PbgyaqgvD...</td>\n",
       "      <td>Azis Kci</td>\n",
       "      <td>https://play-lh.googleusercontent.com/a/AATXAJ...</td>\n",
       "      <td>Saya gak paham dengan signal telkomsel kenapa ...</td>\n",
       "      <td>1</td>\n",
       "      <td>36</td>\n",
       "      <td>6.8.0</td>\n",
       "      <td>2022-01-22 22:55:00</td>\n",
       "      <td>Hi, Kak. Maaf jadi ga nyaman. Terkait kendala ...</td>\n",
       "      <td>2022-01-22 23:13:00</td>\n",
       "      <td>most_relevant</td>\n",
       "      <td>com.telkomsel.telkomselcm</td>\n",
       "    </tr>\n",
       "    <tr>\n",
       "      <th>2</th>\n",
       "      <td>gp:AOqpTOHKyRTeDZ9cz48UEpc0ApS9rijmLml_9aBMTo1...</td>\n",
       "      <td>Ricki Muliendri</td>\n",
       "      <td>https://play-lh.googleusercontent.com/a-/AOh14...</td>\n",
       "      <td>Kenapa pemindaian virus. Aplikasi ini terdafta...</td>\n",
       "      <td>1</td>\n",
       "      <td>22</td>\n",
       "      <td>6.8.0</td>\n",
       "      <td>2022-01-22 17:48:19</td>\n",
       "      <td>Hai, Kak Ricki. Maaf ya bikin Kakak ga nyaman,...</td>\n",
       "      <td>2022-01-22 18:40:17</td>\n",
       "      <td>most_relevant</td>\n",
       "      <td>com.telkomsel.telkomselcm</td>\n",
       "    </tr>\n",
       "    <tr>\n",
       "      <th>3</th>\n",
       "      <td>gp:AOqpTOGs-P0H17EeBkqiu1mIDxZEZaR8va6JasjMRnn...</td>\n",
       "      <td>dimas abe</td>\n",
       "      <td>https://play-lh.googleusercontent.com/a-/AOh14...</td>\n",
       "      <td>Pulsa hilang sendiri gak jelas telkomsel, lama...</td>\n",
       "      <td>1</td>\n",
       "      <td>4</td>\n",
       "      <td>6.8.0</td>\n",
       "      <td>2022-01-23 17:38:10</td>\n",
       "      <td>Mohon maaf jadi ga nyaman ya Kak Dimas. Periha...</td>\n",
       "      <td>2022-01-23 18:02:34</td>\n",
       "      <td>most_relevant</td>\n",
       "      <td>com.telkomsel.telkomselcm</td>\n",
       "    </tr>\n",
       "    <tr>\n",
       "      <th>4</th>\n",
       "      <td>gp:AOqpTOFjhOdErNlUVrAz2_ig2PMPX6ZGj1fbwfxc7Sm...</td>\n",
       "      <td>Riani Andini</td>\n",
       "      <td>https://play-lh.googleusercontent.com/a/AATXAJ...</td>\n",
       "      <td>Jaringan Telkomsel sangat monopoli,kenapa begi...</td>\n",
       "      <td>1</td>\n",
       "      <td>11</td>\n",
       "      <td>6.8.0</td>\n",
       "      <td>2022-01-22 18:23:36</td>\n",
       "      <td>Hai, Kak Riani. Mohon maaf ya kalau ada yang b...</td>\n",
       "      <td>2022-01-22 19:00:14</td>\n",
       "      <td>most_relevant</td>\n",
       "      <td>com.telkomsel.telkomselcm</td>\n",
       "    </tr>\n",
       "    <tr>\n",
       "      <th>...</th>\n",
       "      <td>...</td>\n",
       "      <td>...</td>\n",
       "      <td>...</td>\n",
       "      <td>...</td>\n",
       "      <td>...</td>\n",
       "      <td>...</td>\n",
       "      <td>...</td>\n",
       "      <td>...</td>\n",
       "      <td>...</td>\n",
       "      <td>...</td>\n",
       "      <td>...</td>\n",
       "      <td>...</td>\n",
       "    </tr>\n",
       "    <tr>\n",
       "      <th>5995</th>\n",
       "      <td>gp:AOqpTOGtNMcpQ6oMmGuSkkYg9Rw5iIxnL-q3QjEDXu3...</td>\n",
       "      <td>Kevin Farras fernanda</td>\n",
       "      <td>https://play-lh.googleusercontent.com/a/AATXAJ...</td>\n",
       "      <td>mksih</td>\n",
       "      <td>5</td>\n",
       "      <td>0</td>\n",
       "      <td>6.7.0</td>\n",
       "      <td>2022-01-24 12:03:25</td>\n",
       "      <td>None</td>\n",
       "      <td>NaT</td>\n",
       "      <td>newest</td>\n",
       "      <td>com.telkomsel.telkomselcm</td>\n",
       "    </tr>\n",
       "    <tr>\n",
       "      <th>5996</th>\n",
       "      <td>gp:AOqpTOERm_JAAKhJw7S8A1XHN71iPXmK8etckN9AG4c...</td>\n",
       "      <td>Mas Lutfi Nugroho</td>\n",
       "      <td>https://play-lh.googleusercontent.com/a-/AOh14...</td>\n",
       "      <td>good apk</td>\n",
       "      <td>5</td>\n",
       "      <td>0</td>\n",
       "      <td>6.7.0</td>\n",
       "      <td>2022-01-24 11:55:07</td>\n",
       "      <td>None</td>\n",
       "      <td>NaT</td>\n",
       "      <td>newest</td>\n",
       "      <td>com.telkomsel.telkomselcm</td>\n",
       "    </tr>\n",
       "    <tr>\n",
       "      <th>5997</th>\n",
       "      <td>gp:AOqpTOGObNV_Yws0fz--19QhX4rWZA6f9QOGRhIETrd...</td>\n",
       "      <td>Nia Br Tigan Duri</td>\n",
       "      <td>https://play-lh.googleusercontent.com/a-/AOh14...</td>\n",
       "      <td>Mantap</td>\n",
       "      <td>5</td>\n",
       "      <td>0</td>\n",
       "      <td>6.7.0</td>\n",
       "      <td>2022-01-24 11:54:04</td>\n",
       "      <td>None</td>\n",
       "      <td>NaT</td>\n",
       "      <td>newest</td>\n",
       "      <td>com.telkomsel.telkomselcm</td>\n",
       "    </tr>\n",
       "    <tr>\n",
       "      <th>5998</th>\n",
       "      <td>gp:AOqpTOEKf_M6faMiCertSHHRYokwVCucMsj4MvpvdT3...</td>\n",
       "      <td>Hendrik Aj</td>\n",
       "      <td>https://play-lh.googleusercontent.com/a/AATXAJ...</td>\n",
       "      <td>Ok</td>\n",
       "      <td>5</td>\n",
       "      <td>0</td>\n",
       "      <td>6.8.0</td>\n",
       "      <td>2022-01-24 11:53:46</td>\n",
       "      <td>None</td>\n",
       "      <td>NaT</td>\n",
       "      <td>newest</td>\n",
       "      <td>com.telkomsel.telkomselcm</td>\n",
       "    </tr>\n",
       "    <tr>\n",
       "      <th>5999</th>\n",
       "      <td>gp:AOqpTOHszJ9QCbsXWuW99dUA8-yMore9dRJFtyiRDl4...</td>\n",
       "      <td>Azkalika Mapp</td>\n",
       "      <td>https://play-lh.googleusercontent.com/a/AATXAJ...</td>\n",
       "      <td>Gas Polll</td>\n",
       "      <td>5</td>\n",
       "      <td>0</td>\n",
       "      <td>6.7.0</td>\n",
       "      <td>2022-01-24 11:53:37</td>\n",
       "      <td>None</td>\n",
       "      <td>NaT</td>\n",
       "      <td>newest</td>\n",
       "      <td>com.telkomsel.telkomselcm</td>\n",
       "    </tr>\n",
       "  </tbody>\n",
       "</table>\n",
       "<p>6000 rows × 12 columns</p>\n",
       "</div>"
      ],
      "text/plain": [
       "                                               reviewId  \\\n",
       "0     gp:AOqpTOGupk1NuT0T9c7rD22vinZBrEjpHbWmYfBU4Ds...   \n",
       "1     gp:AOqpTOFCS4JvkFIBFEIIK7lBZOAeKkmpu-PbgyaqgvD...   \n",
       "2     gp:AOqpTOHKyRTeDZ9cz48UEpc0ApS9rijmLml_9aBMTo1...   \n",
       "3     gp:AOqpTOGs-P0H17EeBkqiu1mIDxZEZaR8va6JasjMRnn...   \n",
       "4     gp:AOqpTOFjhOdErNlUVrAz2_ig2PMPX6ZGj1fbwfxc7Sm...   \n",
       "...                                                 ...   \n",
       "5995  gp:AOqpTOGtNMcpQ6oMmGuSkkYg9Rw5iIxnL-q3QjEDXu3...   \n",
       "5996  gp:AOqpTOERm_JAAKhJw7S8A1XHN71iPXmK8etckN9AG4c...   \n",
       "5997  gp:AOqpTOGObNV_Yws0fz--19QhX4rWZA6f9QOGRhIETrd...   \n",
       "5998  gp:AOqpTOEKf_M6faMiCertSHHRYokwVCucMsj4MvpvdT3...   \n",
       "5999  gp:AOqpTOHszJ9QCbsXWuW99dUA8-yMore9dRJFtyiRDl4...   \n",
       "\n",
       "                   userName  \\\n",
       "0                Firdaus AR   \n",
       "1                  Azis Kci   \n",
       "2           Ricki Muliendri   \n",
       "3                 dimas abe   \n",
       "4              Riani Andini   \n",
       "...                     ...   \n",
       "5995  Kevin Farras fernanda   \n",
       "5996      Mas Lutfi Nugroho   \n",
       "5997      Nia Br Tigan Duri   \n",
       "5998             Hendrik Aj   \n",
       "5999          Azkalika Mapp   \n",
       "\n",
       "                                              userImage  \\\n",
       "0     https://play-lh.googleusercontent.com/a-/AOh14...   \n",
       "1     https://play-lh.googleusercontent.com/a/AATXAJ...   \n",
       "2     https://play-lh.googleusercontent.com/a-/AOh14...   \n",
       "3     https://play-lh.googleusercontent.com/a-/AOh14...   \n",
       "4     https://play-lh.googleusercontent.com/a/AATXAJ...   \n",
       "...                                                 ...   \n",
       "5995  https://play-lh.googleusercontent.com/a/AATXAJ...   \n",
       "5996  https://play-lh.googleusercontent.com/a-/AOh14...   \n",
       "5997  https://play-lh.googleusercontent.com/a-/AOh14...   \n",
       "5998  https://play-lh.googleusercontent.com/a/AATXAJ...   \n",
       "5999  https://play-lh.googleusercontent.com/a/AATXAJ...   \n",
       "\n",
       "                                                content  score  thumbsUpCount  \\\n",
       "0     Tolong buat Telkomsel,prioritas kan dong pengu...      1            149   \n",
       "1     Saya gak paham dengan signal telkomsel kenapa ...      1             36   \n",
       "2     Kenapa pemindaian virus. Aplikasi ini terdafta...      1             22   \n",
       "3     Pulsa hilang sendiri gak jelas telkomsel, lama...      1              4   \n",
       "4     Jaringan Telkomsel sangat monopoli,kenapa begi...      1             11   \n",
       "...                                                 ...    ...            ...   \n",
       "5995                                              mksih      5              0   \n",
       "5996                                           good apk      5              0   \n",
       "5997                                             Mantap      5              0   \n",
       "5998                                                 Ok      5              0   \n",
       "5999                                          Gas Polll      5              0   \n",
       "\n",
       "     reviewCreatedVersion                  at  \\\n",
       "0                   6.8.0 2022-01-22 19:37:04   \n",
       "1                   6.8.0 2022-01-22 22:55:00   \n",
       "2                   6.8.0 2022-01-22 17:48:19   \n",
       "3                   6.8.0 2022-01-23 17:38:10   \n",
       "4                   6.8.0 2022-01-22 18:23:36   \n",
       "...                   ...                 ...   \n",
       "5995                6.7.0 2022-01-24 12:03:25   \n",
       "5996                6.7.0 2022-01-24 11:55:07   \n",
       "5997                6.7.0 2022-01-24 11:54:04   \n",
       "5998                6.8.0 2022-01-24 11:53:46   \n",
       "5999                6.7.0 2022-01-24 11:53:37   \n",
       "\n",
       "                                           replyContent           repliedAt  \\\n",
       "0     Hi, Kak. Maaf jadi ga nyaman. Terkait keluhan ... 2022-01-22 21:48:16   \n",
       "1     Hi, Kak. Maaf jadi ga nyaman. Terkait kendala ... 2022-01-22 23:13:00   \n",
       "2     Hai, Kak Ricki. Maaf ya bikin Kakak ga nyaman,... 2022-01-22 18:40:17   \n",
       "3     Mohon maaf jadi ga nyaman ya Kak Dimas. Periha... 2022-01-23 18:02:34   \n",
       "4     Hai, Kak Riani. Mohon maaf ya kalau ada yang b... 2022-01-22 19:00:14   \n",
       "...                                                 ...                 ...   \n",
       "5995                                               None                 NaT   \n",
       "5996                                               None                 NaT   \n",
       "5997                                               None                 NaT   \n",
       "5998                                               None                 NaT   \n",
       "5999                                               None                 NaT   \n",
       "\n",
       "          sortOrder                      appId  \n",
       "0     most_relevant  com.telkomsel.telkomselcm  \n",
       "1     most_relevant  com.telkomsel.telkomselcm  \n",
       "2     most_relevant  com.telkomsel.telkomselcm  \n",
       "3     most_relevant  com.telkomsel.telkomselcm  \n",
       "4     most_relevant  com.telkomsel.telkomselcm  \n",
       "...             ...                        ...  \n",
       "5995         newest  com.telkomsel.telkomselcm  \n",
       "5996         newest  com.telkomsel.telkomselcm  \n",
       "5997         newest  com.telkomsel.telkomselcm  \n",
       "5998         newest  com.telkomsel.telkomselcm  \n",
       "5999         newest  com.telkomsel.telkomselcm  \n",
       "\n",
       "[6000 rows x 12 columns]"
      ]
     },
     "execution_count": 14,
     "metadata": {},
     "output_type": "execute_result"
    }
   ],
   "source": [
    "df = pd.DataFrame(app_reviews)\n",
    "df"
   ]
  },
  {
   "cell_type": "code",
   "execution_count": 15,
   "id": "bb3fadd1",
   "metadata": {},
   "outputs": [
    {
     "data": {
      "text/plain": [
       "4    1200\n",
       "1    1200\n",
       "5    1200\n",
       "2    1200\n",
       "3    1200\n",
       "Name: score, dtype: int64"
      ]
     },
     "execution_count": 15,
     "metadata": {},
     "output_type": "execute_result"
    }
   ],
   "source": [
    "df['score'].value_counts()"
   ]
  },
  {
   "cell_type": "markdown",
   "id": "f14158b2",
   "metadata": {},
   "source": [
    "## Hapus ulasan dengan rating 3 bintang agar dataset balanced"
   ]
  },
  {
   "cell_type": "code",
   "execution_count": 16,
   "id": "11f8d59a",
   "metadata": {},
   "outputs": [
    {
     "data": {
      "text/plain": [
       "4800"
      ]
     },
     "execution_count": 16,
     "metadata": {},
     "output_type": "execute_result"
    }
   ],
   "source": [
    "df.drop(df.loc[df['score']==3].index, inplace=True)\n",
    "len(df)"
   ]
  },
  {
   "cell_type": "code",
   "execution_count": 17,
   "id": "484c5a28",
   "metadata": {},
   "outputs": [],
   "source": [
    "df.drop(['reviewId', 'userImage', 'userName', 'score', 'thumbsUpCount', 'reviewCreatedVersion', 'at', 'replyContent', 'repliedAt','sortOrder','appId'], axis=1, inplace=True)"
   ]
  },
  {
   "cell_type": "code",
   "execution_count": 18,
   "id": "b30535d2",
   "metadata": {},
   "outputs": [
    {
     "data": {
      "text/html": [
       "<div>\n",
       "<style scoped>\n",
       "    .dataframe tbody tr th:only-of-type {\n",
       "        vertical-align: middle;\n",
       "    }\n",
       "\n",
       "    .dataframe tbody tr th {\n",
       "        vertical-align: top;\n",
       "    }\n",
       "\n",
       "    .dataframe thead th {\n",
       "        text-align: right;\n",
       "    }\n",
       "</style>\n",
       "<table border=\"1\" class=\"dataframe\">\n",
       "  <thead>\n",
       "    <tr style=\"text-align: right;\">\n",
       "      <th></th>\n",
       "      <th>content</th>\n",
       "    </tr>\n",
       "  </thead>\n",
       "  <tbody>\n",
       "    <tr>\n",
       "      <th>0</th>\n",
       "      <td>Tolong buat Telkomsel,prioritas kan dong penguna lama,jangan cuma yg kartu baru di kasi promo\" Paket murah apalah,saya sebagai penguna lama sangat kecewa,utk paket combo nya,saya tidak butuh bonus Nelpon atau sms,hari gini sdh jarang pakai SMS atau nelpon,mending harga nya di murah kan saja,mana sekarang sinyal sering lemot.. Aduhhh😫 maaf🙏saya kasi bintang satu,supaya Telkomsel bisa lebih baik lagi kedepan.. ✊</td>\n",
       "    </tr>\n",
       "    <tr>\n",
       "      <th>1</th>\n",
       "      <td>Saya gak paham dengan signal telkomsel kenapa lelet banget. Lokasi saya di kota Bekasi. Tapi untuk mutar video di Disney+ aja buffering mulu. Harus di mode pesawat dan aktifkan data kembali. Tapi gak berapa lama lelet lagi. Ayolah di perbaiki klo mau pelanggan tetap setia</td>\n",
       "    </tr>\n",
       "    <tr>\n",
       "      <th>2</th>\n",
       "      <td>Kenapa pemindaian virus. Aplikasi ini terdaftar sebagai virus yg mencuri data saya. Di hp ini data bank dan lain sebagai nya ada. Kalau disalah gunakan gmn? Atau atau my Telkomsel di hack hacker tak bertanggung jawab. Maaf harus saya hapus.</td>\n",
       "    </tr>\n",
       "    <tr>\n",
       "      <th>3</th>\n",
       "      <td>Pulsa hilang sendiri gak jelas telkomsel, lama lama jadi operator gak jelas. Tiap hari motong pulsa orang sembarangan. Pindah operator sebelah aja. Sudah mahal sinyal kadang lemot gak jelas, saya pengguna setia telkomsel dan saya kecewa</td>\n",
       "    </tr>\n",
       "    <tr>\n",
       "      <th>4</th>\n",
       "      <td>Jaringan Telkomsel sangat monopoli,kenapa begitu karna beli paket mingguan yang jumlah kuotanya sedikit tapi tidak dapat mengunduh file di browser dengan baik,ditambah jaringannya yang tidak stabil.Yuk skuy pindah provider lain dengan jaringan bagus + harga murah meriah.</td>\n",
       "    </tr>\n",
       "  </tbody>\n",
       "</table>\n",
       "</div>"
      ],
      "text/plain": [
       "                                                                                                                                                                                                                                                                                                                                                                                                                         content\n",
       "0  Tolong buat Telkomsel,prioritas kan dong penguna lama,jangan cuma yg kartu baru di kasi promo\" Paket murah apalah,saya sebagai penguna lama sangat kecewa,utk paket combo nya,saya tidak butuh bonus Nelpon atau sms,hari gini sdh jarang pakai SMS atau nelpon,mending harga nya di murah kan saja,mana sekarang sinyal sering lemot.. Aduhhh😫 maaf🙏saya kasi bintang satu,supaya Telkomsel bisa lebih baik lagi kedepan.. ✊\n",
       "1                                                                                                                                               Saya gak paham dengan signal telkomsel kenapa lelet banget. Lokasi saya di kota Bekasi. Tapi untuk mutar video di Disney+ aja buffering mulu. Harus di mode pesawat dan aktifkan data kembali. Tapi gak berapa lama lelet lagi. Ayolah di perbaiki klo mau pelanggan tetap setia\n",
       "2                                                                                                                                                                               Kenapa pemindaian virus. Aplikasi ini terdaftar sebagai virus yg mencuri data saya. Di hp ini data bank dan lain sebagai nya ada. Kalau disalah gunakan gmn? Atau atau my Telkomsel di hack hacker tak bertanggung jawab. Maaf harus saya hapus.\n",
       "3                                                                                                                                                                                   Pulsa hilang sendiri gak jelas telkomsel, lama lama jadi operator gak jelas. Tiap hari motong pulsa orang sembarangan. Pindah operator sebelah aja. Sudah mahal sinyal kadang lemot gak jelas, saya pengguna setia telkomsel dan saya kecewa\n",
       "4                                                                                                                                                Jaringan Telkomsel sangat monopoli,kenapa begitu karna beli paket mingguan yang jumlah kuotanya sedikit tapi tidak dapat mengunduh file di browser dengan baik,ditambah jaringannya yang tidak stabil.Yuk skuy pindah provider lain dengan jaringan bagus + harga murah meriah."
      ]
     },
     "execution_count": 18,
     "metadata": {},
     "output_type": "execute_result"
    }
   ],
   "source": [
    "pd.options.display.max_colwidth=1000\n",
    "df.head()"
   ]
  },
  {
   "cell_type": "code",
   "execution_count": null,
   "id": "f94db694",
   "metadata": {},
   "outputs": [],
   "source": [
    "pd.DataFrame({\"ColumnName\": df.columns}).to_csv(\"path/to/file.csv\")"
   ]
  },
  {
   "cell_type": "code",
   "execution_count": 19,
   "id": "6ba64234",
   "metadata": {},
   "outputs": [],
   "source": [
    "df.to_csv(\"raw_dataset.csv\", index=None, header=None)"
   ]
  }
 ],
 "metadata": {
  "kernelspec": {
   "display_name": "Python 3",
   "language": "python",
   "name": "python3"
  },
  "language_info": {
   "codemirror_mode": {
    "name": "ipython",
    "version": 3
   },
   "file_extension": ".py",
   "mimetype": "text/x-python",
   "name": "python",
   "nbconvert_exporter": "python",
   "pygments_lexer": "ipython3",
   "version": "3.8.8"
  }
 },
 "nbformat": 4,
 "nbformat_minor": 5
}
